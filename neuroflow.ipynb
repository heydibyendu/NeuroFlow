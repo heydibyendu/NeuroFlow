{
 "cells": [
  {
   "cell_type": "markdown",
   "metadata": {},
   "source": [
    "# **Analyzing diagnosis of generalized anxiety disorder**\n",
    "\n",
    "The goal of our analysis is to derive insights around the data from GAD-7 validated assessments, which is used to aid in the diagnosis of generalized anxiety disorder as well as screen for panic, social anxiety, and post-traumatic stress disorder."
   ]
  },
  {
   "cell_type": "markdown",
   "metadata": {},
   "source": [
    "# **Part 1**"
   ]
  },
  {
   "cell_type": "code",
   "execution_count": 1,
   "metadata": {},
   "outputs": [],
   "source": [
    "# Import library\n",
    "import numpy as np\n",
    "import pandas as pd\n",
    "import datetime as dt\n",
    "\n",
    "# Plotting library\n",
    "import matplotlib.pyplot as plt\n",
    "from matplotlib.pylab import rcParams\n",
    "rcParams['figure.figsize'] = 10, 6\n",
    "import seaborn as sns\n",
    "plt.style.use('ggplot')"
   ]
  },
  {
   "cell_type": "code",
   "execution_count": 2,
   "metadata": {},
   "outputs": [
    {
     "data": {
      "text/html": [
       "<div>\n",
       "<style scoped>\n",
       "    .dataframe tbody tr th:only-of-type {\n",
       "        vertical-align: middle;\n",
       "    }\n",
       "\n",
       "    .dataframe tbody tr th {\n",
       "        vertical-align: top;\n",
       "    }\n",
       "\n",
       "    .dataframe thead th {\n",
       "        text-align: right;\n",
       "    }\n",
       "</style>\n",
       "<table border=\"1\" class=\"dataframe\">\n",
       "  <thead>\n",
       "    <tr style=\"text-align: right;\">\n",
       "      <th></th>\n",
       "      <th>date</th>\n",
       "      <th>patient_id</th>\n",
       "      <th>type</th>\n",
       "      <th>patient_date_created</th>\n",
       "      <th>score</th>\n",
       "    </tr>\n",
       "  </thead>\n",
       "  <tbody>\n",
       "    <tr>\n",
       "      <th>0</th>\n",
       "      <td>2019-08-26T13:32:43.019162</td>\n",
       "      <td>8430</td>\n",
       "      <td>gad7</td>\n",
       "      <td>2019-06-03T13:23:02.63568</td>\n",
       "      <td>6</td>\n",
       "    </tr>\n",
       "    <tr>\n",
       "      <th>1</th>\n",
       "      <td>2019-11-15T17:55:11.364877</td>\n",
       "      <td>8430</td>\n",
       "      <td>gad7</td>\n",
       "      <td>2019-06-03T13:23:02.63568</td>\n",
       "      <td>1</td>\n",
       "    </tr>\n",
       "    <tr>\n",
       "      <th>2</th>\n",
       "      <td>2019-10-07T18:23:29.611351</td>\n",
       "      <td>14338</td>\n",
       "      <td>gad7</td>\n",
       "      <td>2019-06-03T13:32:30.66846</td>\n",
       "      <td>10</td>\n",
       "    </tr>\n",
       "    <tr>\n",
       "      <th>3</th>\n",
       "      <td>2019-11-04T20:16:28.610965</td>\n",
       "      <td>14338</td>\n",
       "      <td>gad7</td>\n",
       "      <td>2019-06-03T13:32:30.66846</td>\n",
       "      <td>7</td>\n",
       "    </tr>\n",
       "    <tr>\n",
       "      <th>4</th>\n",
       "      <td>2019-12-02T20:56:55.966354</td>\n",
       "      <td>14338</td>\n",
       "      <td>gad7</td>\n",
       "      <td>2019-06-03T13:32:30.66846</td>\n",
       "      <td>9</td>\n",
       "    </tr>\n",
       "  </tbody>\n",
       "</table>\n",
       "</div>"
      ],
      "text/plain": [
       "                         date  patient_id  type       patient_date_created  \\\n",
       "0  2019-08-26T13:32:43.019162        8430  gad7  2019-06-03T13:23:02.63568   \n",
       "1  2019-11-15T17:55:11.364877        8430  gad7  2019-06-03T13:23:02.63568   \n",
       "2  2019-10-07T18:23:29.611351       14338  gad7  2019-06-03T13:32:30.66846   \n",
       "3  2019-11-04T20:16:28.610965       14338  gad7  2019-06-03T13:32:30.66846   \n",
       "4  2019-12-02T20:56:55.966354       14338  gad7  2019-06-03T13:32:30.66846   \n",
       "\n",
       "   score  \n",
       "0      6  \n",
       "1      1  \n",
       "2     10  \n",
       "3      7  \n",
       "4      9  "
      ]
     },
     "execution_count": 2,
     "metadata": {},
     "output_type": "execute_result"
    }
   ],
   "source": [
    "# Load in the data\n",
    "df = pd.read_csv('phq_all_final.csv')\n",
    "df.head()"
   ]
  },
  {
   "cell_type": "code",
   "execution_count": 3,
   "metadata": {},
   "outputs": [
    {
     "name": "stdout",
     "output_type": "stream",
     "text": [
      "<class 'pandas.core.frame.DataFrame'>\n",
      "RangeIndex: 53698 entries, 0 to 53697\n",
      "Data columns (total 5 columns):\n",
      " #   Column                Non-Null Count  Dtype \n",
      "---  ------                --------------  ----- \n",
      " 0   date                  53698 non-null  object\n",
      " 1   patient_id            53698 non-null  int64 \n",
      " 2   type                  53698 non-null  object\n",
      " 3   patient_date_created  53698 non-null  object\n",
      " 4   score                 53698 non-null  int64 \n",
      "dtypes: int64(2), object(3)\n",
      "memory usage: 2.0+ MB\n"
     ]
    }
   ],
   "source": [
    "# Inspect the data\n",
    "df.info()"
   ]
  },
  {
   "cell_type": "markdown",
   "metadata": {},
   "source": [
    "We have 53698 instances to work with and there are no missing values. We can also confirm the data has 5 attributes, with 2 being numeric features. However, two time-based features are marked as object. We need to change them into datetime too.\n",
    "\n",
    "Let's check the number of unique values for each attribute."
   ]
  },
  {
   "cell_type": "code",
   "execution_count": 4,
   "metadata": {},
   "outputs": [
    {
     "data": {
      "text/plain": [
       "date                    53698\n",
       "patient_id              15502\n",
       "type                        1\n",
       "patient_date_created    15502\n",
       "score                      22\n",
       "dtype: int64"
      ]
     },
     "execution_count": 4,
     "metadata": {},
     "output_type": "execute_result"
    }
   ],
   "source": [
    "# Check unique values\n",
    "df.nunique()"
   ]
  },
  {
   "cell_type": "markdown",
   "metadata": {},
   "source": [
    "All the rows in the date column is unique, whereas patient_id and patient_date_created have same number of unique rows, which is lesser than that of data column. It means every diagnosis has been conducted separately and one patient took many tests."
   ]
  },
  {
   "cell_type": "markdown",
   "metadata": {},
   "source": [
    "### **Assumptions**"
   ]
  },
  {
   "cell_type": "markdown",
   "metadata": {},
   "source": [
    "* I am assuming that the score truly represents the metal state of the patients and the patients responded honestly to each question.\n",
    "* I’m also assuming that every patient went through the questions with the same sequence with uniform time interval."
   ]
  },
  {
   "cell_type": "code",
   "execution_count": 5,
   "metadata": {},
   "outputs": [
    {
     "data": {
      "image/png": "[encoded data removed]",
      "text/plain": [
       "<Figure size 720x432 with 1 Axes>"
      ]
     },
     "metadata": {},
     "output_type": "display_data"
    }
   ],
   "source": [
    "# Plot the score distribution\n",
    "sns.countplot('score', data=df);"
   ]
  },
  {
   "cell_type": "markdown",
   "metadata": {},
   "source": [
    "The plot shows that most of the diagnoses are having 'low to minimum' score.\n",
    "\n",
    "Let's segment the score in different severity levels as described in the problem statement."
   ]
  },
  {
   "cell_type": "code",
   "execution_count": 6,
   "metadata": {},
   "outputs": [
    {
     "data": {
      "text/html": [
       "<div>\n",
       "<style scoped>\n",
       "    .dataframe tbody tr th:only-of-type {\n",
       "        vertical-align: middle;\n",
       "    }\n",
       "\n",
       "    .dataframe tbody tr th {\n",
       "        vertical-align: top;\n",
       "    }\n",
       "\n",
       "    .dataframe thead th {\n",
       "        text-align: right;\n",
       "    }\n",
       "</style>\n",
       "<table border=\"1\" class=\"dataframe\">\n",
       "  <thead>\n",
       "    <tr style=\"text-align: right;\">\n",
       "      <th></th>\n",
       "      <th>date</th>\n",
       "      <th>patient_id</th>\n",
       "      <th>type</th>\n",
       "      <th>patient_date_created</th>\n",
       "      <th>score</th>\n",
       "      <th>severity</th>\n",
       "    </tr>\n",
       "  </thead>\n",
       "  <tbody>\n",
       "    <tr>\n",
       "      <th>33011</th>\n",
       "      <td>2020-07-13T16:00:41.811278</td>\n",
       "      <td>2845</td>\n",
       "      <td>gad7</td>\n",
       "      <td>2020-02-03T17:04:40.356835</td>\n",
       "      <td>2</td>\n",
       "      <td>low</td>\n",
       "    </tr>\n",
       "    <tr>\n",
       "      <th>32439</th>\n",
       "      <td>2020-04-22T22:38:42.477216</td>\n",
       "      <td>8733</td>\n",
       "      <td>gad7</td>\n",
       "      <td>2020-01-29T19:11:40.838934</td>\n",
       "      <td>0</td>\n",
       "      <td>low</td>\n",
       "    </tr>\n",
       "    <tr>\n",
       "      <th>30370</th>\n",
       "      <td>2020-01-16T16:07:30.411627</td>\n",
       "      <td>5149</td>\n",
       "      <td>gad7</td>\n",
       "      <td>2020-01-16T16:03:37.130791</td>\n",
       "      <td>3</td>\n",
       "      <td>low</td>\n",
       "    </tr>\n",
       "  </tbody>\n",
       "</table>\n",
       "</div>"
      ],
      "text/plain": [
       "                             date  patient_id  type  \\\n",
       "33011  2020-07-13T16:00:41.811278        2845  gad7   \n",
       "32439  2020-04-22T22:38:42.477216        8733  gad7   \n",
       "30370  2020-01-16T16:07:30.411627        5149  gad7   \n",
       "\n",
       "             patient_date_created  score severity  \n",
       "33011  2020-02-03T17:04:40.356835      2      low  \n",
       "32439  2020-01-29T19:11:40.838934      0      low  \n",
       "30370  2020-01-16T16:03:37.130791      3      low  "
      ]
     },
     "execution_count": 6,
     "metadata": {},
     "output_type": "execute_result"
    }
   ],
   "source": [
    "# Group the score as per severity\n",
    "bins = [0, 5, 10, 15, 21]\n",
    "labels = ['low', 'mild', 'moderate', 'severe']\n",
    "df['severity'] = pd.cut(df['score'], bins=bins, labels=labels, include_lowest=True).astype('str')\n",
    "df.sample(3)"
   ]
  },
  {
   "cell_type": "markdown",
   "metadata": {},
   "source": [
    "Let's see how the scores are distributed in the severity level."
   ]
  },
  {
   "cell_type": "code",
   "execution_count": 7,
   "metadata": {},
   "outputs": [
    {
     "name": "stdout",
     "output_type": "stream",
     "text": [
      "low         65.927968\n",
      "mild        19.134791\n",
      "moderate     8.661403\n",
      "severe       6.275839\n",
      "Name: severity, dtype: float64\n"
     ]
    },
    {
     "data": {
      "image/png": "[encoded data removed]",
      "text/plain": [
       "<Figure size 720x432 with 1 Axes>"
      ]
     },
     "metadata": {},
     "output_type": "display_data"
    }
   ],
   "source": [
    "# Print severity percentage\n",
    "print(df['severity'].value_counts(normalize=True)*100)\n",
    "\n",
    "# Plot the severity distribution\n",
    "sns.countplot('severity', data=df);"
   ]
  },
  {
   "cell_type": "markdown",
   "metadata": {},
   "source": [
    "We have already seen that most of the diagnoses are low to minimum score. Here we can see that only 6% diagnoses are severe."
   ]
  },
  {
   "cell_type": "markdown",
   "metadata": {},
   "source": [
    "As the recommended threshold for further clinical evaluation is a score of 10 or greater, let's create a column to find who has been moved to the further clinical evaluation. If the score is 10 or greater, then 1 (which means yes) else 0 (which means no)."
   ]
  },
  {
   "cell_type": "code",
   "execution_count": 8,
   "metadata": {},
   "outputs": [
    {
     "data": {
      "text/html": [
       "<div>\n",
       "<style scoped>\n",
       "    .dataframe tbody tr th:only-of-type {\n",
       "        vertical-align: middle;\n",
       "    }\n",
       "\n",
       "    .dataframe tbody tr th {\n",
       "        vertical-align: top;\n",
       "    }\n",
       "\n",
       "    .dataframe thead th {\n",
       "        text-align: right;\n",
       "    }\n",
       "</style>\n",
       "<table border=\"1\" class=\"dataframe\">\n",
       "  <thead>\n",
       "    <tr style=\"text-align: right;\">\n",
       "      <th></th>\n",
       "      <th>date</th>\n",
       "      <th>patient_id</th>\n",
       "      <th>type</th>\n",
       "      <th>patient_date_created</th>\n",
       "      <th>score</th>\n",
       "      <th>severity</th>\n",
       "      <th>clinical_evaluation</th>\n",
       "    </tr>\n",
       "  </thead>\n",
       "  <tbody>\n",
       "    <tr>\n",
       "      <th>0</th>\n",
       "      <td>2019-08-26T13:32:43.019162</td>\n",
       "      <td>8430</td>\n",
       "      <td>gad7</td>\n",
       "      <td>2019-06-03T13:23:02.63568</td>\n",
       "      <td>6</td>\n",
       "      <td>mild</td>\n",
       "      <td>0</td>\n",
       "    </tr>\n",
       "    <tr>\n",
       "      <th>1</th>\n",
       "      <td>2019-11-15T17:55:11.364877</td>\n",
       "      <td>8430</td>\n",
       "      <td>gad7</td>\n",
       "      <td>2019-06-03T13:23:02.63568</td>\n",
       "      <td>1</td>\n",
       "      <td>low</td>\n",
       "      <td>0</td>\n",
       "    </tr>\n",
       "    <tr>\n",
       "      <th>2</th>\n",
       "      <td>2019-10-07T18:23:29.611351</td>\n",
       "      <td>14338</td>\n",
       "      <td>gad7</td>\n",
       "      <td>2019-06-03T13:32:30.66846</td>\n",
       "      <td>10</td>\n",
       "      <td>mild</td>\n",
       "      <td>1</td>\n",
       "    </tr>\n",
       "    <tr>\n",
       "      <th>3</th>\n",
       "      <td>2019-11-04T20:16:28.610965</td>\n",
       "      <td>14338</td>\n",
       "      <td>gad7</td>\n",
       "      <td>2019-06-03T13:32:30.66846</td>\n",
       "      <td>7</td>\n",
       "      <td>mild</td>\n",
       "      <td>0</td>\n",
       "    </tr>\n",
       "    <tr>\n",
       "      <th>4</th>\n",
       "      <td>2019-12-02T20:56:55.966354</td>\n",
       "      <td>14338</td>\n",
       "      <td>gad7</td>\n",
       "      <td>2019-06-03T13:32:30.66846</td>\n",
       "      <td>9</td>\n",
       "      <td>mild</td>\n",
       "      <td>0</td>\n",
       "    </tr>\n",
       "  </tbody>\n",
       "</table>\n",
       "</div>"
      ],
      "text/plain": [
       "                         date  patient_id  type       patient_date_created  \\\n",
       "0  2019-08-26T13:32:43.019162        8430  gad7  2019-06-03T13:23:02.63568   \n",
       "1  2019-11-15T17:55:11.364877        8430  gad7  2019-06-03T13:23:02.63568   \n",
       "2  2019-10-07T18:23:29.611351       14338  gad7  2019-06-03T13:32:30.66846   \n",
       "3  2019-11-04T20:16:28.610965       14338  gad7  2019-06-03T13:32:30.66846   \n",
       "4  2019-12-02T20:56:55.966354       14338  gad7  2019-06-03T13:32:30.66846   \n",
       "\n",
       "   score severity  clinical_evaluation  \n",
       "0      6     mild                    0  \n",
       "1      1      low                    0  \n",
       "2     10     mild                    1  \n",
       "3      7     mild                    0  \n",
       "4      9     mild                    0  "
      ]
     },
     "execution_count": 8,
     "metadata": {},
     "output_type": "execute_result"
    }
   ],
   "source": [
    "# Select clinical evaluation as yes or no\n",
    "bins = [0, 9, 21]\n",
    "labels = [0, 1] # 0 == No, 1 == Yes\n",
    "df['clinical_evaluation'] = pd.cut(df['score'], bins=bins, labels=labels, include_lowest=True).astype(int)\n",
    "df.head()"
   ]
  },
  {
   "cell_type": "code",
   "execution_count": 9,
   "metadata": {},
   "outputs": [
    {
     "name": "stdout",
     "output_type": "stream",
     "text": [
      "0    82.679057\n",
      "1    17.320943\n",
      "Name: clinical_evaluation, dtype: float64\n"
     ]
    },
    {
     "data": {
      "image/png": "[encoded data removed]",
      "text/plain": [
       "<Figure size 720x432 with 1 Axes>"
      ]
     },
     "metadata": {},
     "output_type": "display_data"
    }
   ],
   "source": [
    "# Count yes and no of clinical evaluation\n",
    "print(df['clinical_evaluation'].value_counts(normalize=True)*100)\n",
    "\n",
    "# Plot the distribution of clinical evaluation\n",
    "sns.countplot('clinical_evaluation', data=df);"
   ]
  },
  {
   "cell_type": "markdown",
   "metadata": {},
   "source": [
    "It's not surprising that only 17% of diagnoses required further clinical evaluation."
   ]
  },
  {
   "cell_type": "markdown",
   "metadata": {},
   "source": [
    "Let's create four new features out of the date column to understand which month, day and when the patients took the diagnoses. It would help us understand if date or time influences patients' mental state."
   ]
  },
  {
   "cell_type": "code",
   "execution_count": 10,
   "metadata": {},
   "outputs": [
    {
     "data": {
      "text/html": [
       "<div>\n",
       "<style scoped>\n",
       "    .dataframe tbody tr th:only-of-type {\n",
       "        vertical-align: middle;\n",
       "    }\n",
       "\n",
       "    .dataframe tbody tr th {\n",
       "        vertical-align: top;\n",
       "    }\n",
       "\n",
       "    .dataframe thead th {\n",
       "        text-align: right;\n",
       "    }\n",
       "</style>\n",
       "<table border=\"1\" class=\"dataframe\">\n",
       "  <thead>\n",
       "    <tr style=\"text-align: right;\">\n",
       "      <th></th>\n",
       "      <th>date</th>\n",
       "      <th>year</th>\n",
       "      <th>month</th>\n",
       "      <th>weekday</th>\n",
       "      <th>hour</th>\n",
       "      <th>patient_id</th>\n",
       "      <th>type</th>\n",
       "      <th>patient_date_created</th>\n",
       "      <th>score</th>\n",
       "      <th>severity</th>\n",
       "      <th>clinical_evaluation</th>\n",
       "    </tr>\n",
       "  </thead>\n",
       "  <tbody>\n",
       "    <tr>\n",
       "      <th>9349</th>\n",
       "      <td>2019-12-12 15:00:52.247557</td>\n",
       "      <td>2019</td>\n",
       "      <td>December</td>\n",
       "      <td>Thursday</td>\n",
       "      <td>15</td>\n",
       "      <td>13747</td>\n",
       "      <td>gad7</td>\n",
       "      <td>2019-09-11 16:04:55.233496</td>\n",
       "      <td>3</td>\n",
       "      <td>low</td>\n",
       "      <td>0</td>\n",
       "    </tr>\n",
       "    <tr>\n",
       "      <th>51312</th>\n",
       "      <td>2020-07-24 20:57:52.914333</td>\n",
       "      <td>2020</td>\n",
       "      <td>July</td>\n",
       "      <td>Friday</td>\n",
       "      <td>20</td>\n",
       "      <td>12171</td>\n",
       "      <td>gad7</td>\n",
       "      <td>2020-05-27 16:15:04.292085</td>\n",
       "      <td>8</td>\n",
       "      <td>mild</td>\n",
       "      <td>0</td>\n",
       "    </tr>\n",
       "    <tr>\n",
       "      <th>18034</th>\n",
       "      <td>2020-03-09 19:49:49.910309</td>\n",
       "      <td>2020</td>\n",
       "      <td>March</td>\n",
       "      <td>Monday</td>\n",
       "      <td>19</td>\n",
       "      <td>7525</td>\n",
       "      <td>gad7</td>\n",
       "      <td>2019-11-11 15:07:27.612999</td>\n",
       "      <td>7</td>\n",
       "      <td>mild</td>\n",
       "      <td>0</td>\n",
       "    </tr>\n",
       "  </tbody>\n",
       "</table>\n",
       "</div>"
      ],
      "text/plain": [
       "                            date  year     month   weekday hour  patient_id  \\\n",
       "9349  2019-12-12 15:00:52.247557  2019  December  Thursday   15       13747   \n",
       "51312 2020-07-24 20:57:52.914333  2020      July    Friday   20       12171   \n",
       "18034 2020-03-09 19:49:49.910309  2020     March    Monday   19        7525   \n",
       "\n",
       "       type       patient_date_created  score severity  clinical_evaluation  \n",
       "9349   gad7 2019-09-11 16:04:55.233496      3      low                    0  \n",
       "51312  gad7 2020-05-27 16:15:04.292085      8     mild                    0  \n",
       "18034  gad7 2019-11-11 15:07:27.612999      7     mild                    0  "
      ]
     },
     "execution_count": 10,
     "metadata": {},
     "output_type": "execute_result"
    }
   ],
   "source": [
    "# Change to datetime\n",
    "df['date'] = pd.to_datetime(df['date'])\n",
    "df['patient_date_created'] = pd.to_datetime(df['patient_date_created'])\n",
    "\n",
    "# Extract years\n",
    "year = df[['date']].apply(lambda x: dt.datetime.strftime(x['date'], '%Y'), axis=1)\n",
    "\n",
    "# Extract months\n",
    "month = df[['date']].apply(lambda x: dt.datetime.strftime(x['date'], '%B'), axis=1)\n",
    "\n",
    "# Extract days\n",
    "weekday = df[['date']].apply(lambda x: dt.datetime.strftime(x['date'], '%A'), axis=1)\n",
    "\n",
    "# Extract hour\n",
    "hour = df[['date']].apply(lambda x: dt.datetime.strftime(x['date'], '%H'), axis=1)\n",
    "\n",
    "# Insert them sequencially into the dataset\n",
    "df.insert(1,'year', year)\n",
    "df.insert(2,'month', month)\n",
    "df.insert(3,'weekday', weekday)\n",
    "df.insert(4,'hour', hour)\n",
    "df.sample(3)"
   ]
  },
  {
   "cell_type": "markdown",
   "metadata": {},
   "source": [
    "Let's see the frequency as well as unique counts of days, month or hour."
   ]
  },
  {
   "cell_type": "code",
   "execution_count": 11,
   "metadata": {},
   "outputs": [
    {
     "data": {
      "text/html": [
       "<div>\n",
       "<style scoped>\n",
       "    .dataframe tbody tr th:only-of-type {\n",
       "        vertical-align: middle;\n",
       "    }\n",
       "\n",
       "    .dataframe tbody tr th {\n",
       "        vertical-align: top;\n",
       "    }\n",
       "\n",
       "    .dataframe thead th {\n",
       "        text-align: right;\n",
       "    }\n",
       "</style>\n",
       "<table border=\"1\" class=\"dataframe\">\n",
       "  <thead>\n",
       "    <tr style=\"text-align: right;\">\n",
       "      <th></th>\n",
       "      <th>count</th>\n",
       "      <th>unique</th>\n",
       "      <th>top</th>\n",
       "      <th>freq</th>\n",
       "    </tr>\n",
       "  </thead>\n",
       "  <tbody>\n",
       "    <tr>\n",
       "      <th>year</th>\n",
       "      <td>53698</td>\n",
       "      <td>2</td>\n",
       "      <td>2020</td>\n",
       "      <td>40241</td>\n",
       "    </tr>\n",
       "    <tr>\n",
       "      <th>month</th>\n",
       "      <td>53698</td>\n",
       "      <td>12</td>\n",
       "      <td>April</td>\n",
       "      <td>7072</td>\n",
       "    </tr>\n",
       "    <tr>\n",
       "      <th>weekday</th>\n",
       "      <td>53698</td>\n",
       "      <td>7</td>\n",
       "      <td>Wednesday</td>\n",
       "      <td>13753</td>\n",
       "    </tr>\n",
       "    <tr>\n",
       "      <th>hour</th>\n",
       "      <td>53698</td>\n",
       "      <td>24</td>\n",
       "      <td>14</td>\n",
       "      <td>6091</td>\n",
       "    </tr>\n",
       "    <tr>\n",
       "      <th>type</th>\n",
       "      <td>53698</td>\n",
       "      <td>1</td>\n",
       "      <td>gad7</td>\n",
       "      <td>53698</td>\n",
       "    </tr>\n",
       "    <tr>\n",
       "      <th>severity</th>\n",
       "      <td>53698</td>\n",
       "      <td>4</td>\n",
       "      <td>low</td>\n",
       "      <td>35402</td>\n",
       "    </tr>\n",
       "  </tbody>\n",
       "</table>\n",
       "</div>"
      ],
      "text/plain": [
       "          count unique        top   freq\n",
       "year      53698      2       2020  40241\n",
       "month     53698     12      April   7072\n",
       "weekday   53698      7  Wednesday  13753\n",
       "hour      53698     24         14   6091\n",
       "type      53698      1       gad7  53698\n",
       "severity  53698      4        low  35402"
      ]
     },
     "execution_count": 11,
     "metadata": {},
     "output_type": "execute_result"
    }
   ],
   "source": [
    "df.describe(include='object').T"
   ]
  },
  {
   "cell_type": "code",
   "execution_count": 12,
   "metadata": {},
   "outputs": [
    {
     "data": {
      "image/png": "[encoded data removed]",
      "text/plain": [
       "<Figure size 720x432 with 1 Axes>"
      ]
     },
     "metadata": {},
     "output_type": "display_data"
    }
   ],
   "source": [
    "# Plot the distribution of month\n",
    "sns.countplot('month', hue='clinical_evaluation', data=df);"
   ]
  },
  {
   "cell_type": "markdown",
   "metadata": {},
   "source": [
    "In April, most of the diagnoses are conducted, followed by May. However, May and July are quite same considering the number of diagnoses needed further clinical evaluation.\n",
    "\n",
    "Let's see which month has the highest probability of being clinically evaluated further."
   ]
  },
  {
   "cell_type": "code",
   "execution_count": 13,
   "metadata": {},
   "outputs": [
    {
     "data": {
      "image/png": "[encoded data removed]",
      "text/plain": [
       "<Figure size 648x432 with 1 Axes>"
      ]
     },
     "metadata": {},
     "output_type": "display_data"
    }
   ],
   "source": [
    "sns.catplot(x='month', y='clinical_evaluation',\n",
    "            data=df, kind='bar', height=6, \n",
    "            aspect=1.5, ci=None)\n",
    "plt.ylabel('Further Evaluation Probability')\n",
    "plt.xlabel('Months')\n",
    "plt.xticks(rotation=45)\n",
    "plt.show()"
   ]
  },
  {
   "cell_type": "code",
   "execution_count": 14,
   "metadata": {},
   "outputs": [
    {
     "data": {
      "text/plain": [
       "17.32094305188275"
      ]
     },
     "execution_count": 14,
     "metadata": {},
     "output_type": "execute_result"
    }
   ],
   "source": [
    "# Overall probability\n",
    "df['clinical_evaluation'].mean()*100"
   ]
  },
  {
   "cell_type": "markdown",
   "metadata": {},
   "source": [
    "The overall probability of being clinically evaluated further is 17.32%, whereas the probability goes up to 28% if the diagnoses are conducted in August."
   ]
  },
  {
   "cell_type": "code",
   "execution_count": 15,
   "metadata": {},
   "outputs": [
    {
     "data": {
      "image/png": "[encoded data removed]",
      "text/plain": [
       "<Figure size 720x432 with 1 Axes>"
      ]
     },
     "metadata": {},
     "output_type": "display_data"
    }
   ],
   "source": [
    "# Plot weekday distribution\n",
    "sns.countplot('weekday', hue='clinical_evaluation', data=df);"
   ]
  },
  {
   "cell_type": "markdown",
   "metadata": {},
   "source": [
    "It's Wednesday when most of the diagnoses are conducted. What's the probability of being evaluated further?"
   ]
  },
  {
   "cell_type": "code",
   "execution_count": 16,
   "metadata": {},
   "outputs": [
    {
     "data": {
      "image/png": "[encoded data removed]",
      "text/plain": [
       "<Figure size 648x432 with 1 Axes>"
      ]
     },
     "metadata": {},
     "output_type": "display_data"
    }
   ],
   "source": [
    "sns.catplot(x='weekday', y='clinical_evaluation',\n",
    "            data=df, kind='bar',\n",
    "            height=6,\n",
    "            aspect=1.5,\n",
    "            ci=None)\n",
    "plt.ylabel('Further Evaluation Probability')\n",
    "plt.xlabel('Days')\n",
    "plt.xticks(rotation=45)\n",
    "plt.show()"
   ]
  },
  {
   "cell_type": "markdown",
   "metadata": {},
   "source": [
    "Wednesday comes to third when probability is considered. However, it's interesting that Sunday and Saturday have the lowest number of diagnoses but the highest probability of being evaluated further."
   ]
  },
  {
   "cell_type": "code",
   "execution_count": 17,
   "metadata": {},
   "outputs": [
    {
     "data": {
      "image/png": "[encoded data removed]",
      "text/plain": [
       "<Figure size 720x432 with 1 Axes>"
      ]
     },
     "metadata": {},
     "output_type": "display_data"
    }
   ],
   "source": [
    "# Plot the distribution of hour\n",
    "sns.countplot('hour', hue='clinical_evaluation', data=df);"
   ]
  },
  {
   "cell_type": "code",
   "execution_count": 18,
   "metadata": {},
   "outputs": [
    {
     "data": {
      "image/png": "[encoded data removed]",
      "text/plain": [
       "<Figure size 648x432 with 1 Axes>"
      ]
     },
     "metadata": {},
     "output_type": "display_data"
    }
   ],
   "source": [
    "sns.catplot(x='hour', y='clinical_evaluation',\n",
    "            data=df, kind='bar', height=6,\n",
    "            aspect=1.5, ci=None)\n",
    "plt.ylabel('Further Evaluation Probability')\n",
    "plt.xlabel('Days')\n",
    "plt.xticks(rotation=45)\n",
    "plt.show()"
   ]
  },
  {
   "cell_type": "markdown",
   "metadata": {},
   "source": [
    "Diagnoses are mostly conducted around 2:00pm, whereas early morning tests have higher chances of being evaluated further. It's quite surprising that stress level is high in early morning but low in the afternoon."
   ]
  },
  {
   "cell_type": "markdown",
   "metadata": {},
   "source": [
    "Let's steep back and create two new sub datasets to find the patients who took the diagnosis tests maximum number of times:\n",
    "<br>\n",
    "1) The dataset of the patients who took maximum numbers of tests.\n",
    "</br>\n",
    "2) The dataset of the patients who were clinically evaluated further maximum number of times."
   ]
  },
  {
   "cell_type": "code",
   "execution_count": 19,
   "metadata": {},
   "outputs": [
    {
     "data": {
      "text/html": [
       "<div>\n",
       "<style scoped>\n",
       "    .dataframe tbody tr th:only-of-type {\n",
       "        vertical-align: middle;\n",
       "    }\n",
       "\n",
       "    .dataframe tbody tr th {\n",
       "        vertical-align: top;\n",
       "    }\n",
       "\n",
       "    .dataframe thead th {\n",
       "        text-align: right;\n",
       "    }\n",
       "</style>\n",
       "<table border=\"1\" class=\"dataframe\">\n",
       "  <thead>\n",
       "    <tr style=\"text-align: right;\">\n",
       "      <th></th>\n",
       "      <th>clinical_evaluation</th>\n",
       "    </tr>\n",
       "    <tr>\n",
       "      <th>patient_id</th>\n",
       "      <th></th>\n",
       "    </tr>\n",
       "  </thead>\n",
       "  <tbody>\n",
       "    <tr>\n",
       "      <th>10687</th>\n",
       "      <td>84</td>\n",
       "    </tr>\n",
       "    <tr>\n",
       "      <th>6574</th>\n",
       "      <td>42</td>\n",
       "    </tr>\n",
       "    <tr>\n",
       "      <th>12307</th>\n",
       "      <td>38</td>\n",
       "    </tr>\n",
       "    <tr>\n",
       "      <th>13855</th>\n",
       "      <td>34</td>\n",
       "    </tr>\n",
       "    <tr>\n",
       "      <th>13874</th>\n",
       "      <td>34</td>\n",
       "    </tr>\n",
       "  </tbody>\n",
       "</table>\n",
       "</div>"
      ],
      "text/plain": [
       "            clinical_evaluation\n",
       "patient_id                     \n",
       "10687                        84\n",
       "6574                         42\n",
       "12307                        38\n",
       "13855                        34\n",
       "13874                        34"
      ]
     },
     "metadata": {},
     "output_type": "display_data"
    },
    {
     "data": {
      "image/png": "[encoded data removed]",
      "text/plain": [
       "<Figure size 720x432 with 1 Axes>"
      ]
     },
     "metadata": {},
     "output_type": "display_data"
    }
   ],
   "source": [
    "# Dataset of patients with maximum numbers of tests\n",
    "df_max = df.groupby('patient_id').\\\n",
    "                        agg({'clinical_evaluation': \"count\"})\n",
    "df_top_25 = df_max.nlargest(25, 'clinical_evaluation')\n",
    "display(df_top_25.head())\n",
    "\n",
    "# Plot their distribution\n",
    "df_top_25['clinical_evaluation'].plot(kind='bar')\n",
    "plt.ylabel('Test Counts')\n",
    "plt.xlabel('Patient Id')\n",
    "plt.xticks(rotation=45)\n",
    "plt.show()"
   ]
  },
  {
   "cell_type": "markdown",
   "metadata": {},
   "source": [
    "The patient with the id '10687' went through the maximum number of diagnoses. Let's see who went through the maximum number of further evaluations."
   ]
  },
  {
   "cell_type": "code",
   "execution_count": 20,
   "metadata": {},
   "outputs": [
    {
     "data": {
      "text/html": [
       "<div>\n",
       "<style scoped>\n",
       "    .dataframe tbody tr th:only-of-type {\n",
       "        vertical-align: middle;\n",
       "    }\n",
       "\n",
       "    .dataframe tbody tr th {\n",
       "        vertical-align: top;\n",
       "    }\n",
       "\n",
       "    .dataframe thead th {\n",
       "        text-align: right;\n",
       "    }\n",
       "</style>\n",
       "<table border=\"1\" class=\"dataframe\">\n",
       "  <thead>\n",
       "    <tr style=\"text-align: right;\">\n",
       "      <th></th>\n",
       "      <th>clinical_evaluation</th>\n",
       "    </tr>\n",
       "    <tr>\n",
       "      <th>patient_id</th>\n",
       "      <th></th>\n",
       "    </tr>\n",
       "  </thead>\n",
       "  <tbody>\n",
       "    <tr>\n",
       "      <th>10687</th>\n",
       "      <td>83</td>\n",
       "    </tr>\n",
       "    <tr>\n",
       "      <th>11538</th>\n",
       "      <td>32</td>\n",
       "    </tr>\n",
       "    <tr>\n",
       "      <th>14717</th>\n",
       "      <td>19</td>\n",
       "    </tr>\n",
       "    <tr>\n",
       "      <th>1867</th>\n",
       "      <td>18</td>\n",
       "    </tr>\n",
       "    <tr>\n",
       "      <th>9291</th>\n",
       "      <td>18</td>\n",
       "    </tr>\n",
       "  </tbody>\n",
       "</table>\n",
       "</div>"
      ],
      "text/plain": [
       "            clinical_evaluation\n",
       "patient_id                     \n",
       "10687                        83\n",
       "11538                        32\n",
       "14717                        19\n",
       "1867                         18\n",
       "9291                         18"
      ]
     },
     "metadata": {},
     "output_type": "display_data"
    },
    {
     "data": {
      "image/png": "[encoded data removed]",
      "text/plain": [
       "<Figure size 720x432 with 1 Axes>"
      ]
     },
     "metadata": {},
     "output_type": "display_data"
    }
   ],
   "source": [
    "# Dataset of patients with maximum numbers of further evaluation\n",
    "df_yes = df[df['clinical_evaluation'] == 1].groupby('patient_id').\\\n",
    "                        agg({'clinical_evaluation': \"count\"})\n",
    "df_yes_25 = df_yes.nlargest(25, 'clinical_evaluation')\n",
    "display(df_yes_25.head())\n",
    "\n",
    "# Plot their distribution\n",
    "df_yes_25['clinical_evaluation'].plot(kind='bar')\n",
    "plt.ylabel('Evaluation Counts')\n",
    "plt.xlabel('Patient Id')\n",
    "plt.show()"
   ]
  },
  {
   "cell_type": "markdown",
   "metadata": {},
   "source": [
    "The same patient with highest number of diagnoses also went through the highest number of further evaluations. Quite interesting!\n",
    "\n",
    "Let's take a closer look of the patient who were most stressed."
   ]
  },
  {
   "cell_type": "code",
   "execution_count": 21,
   "metadata": {},
   "outputs": [
    {
     "data": {
      "text/html": [
       "<div>\n",
       "<style scoped>\n",
       "    .dataframe tbody tr th:only-of-type {\n",
       "        vertical-align: middle;\n",
       "    }\n",
       "\n",
       "    .dataframe tbody tr th {\n",
       "        vertical-align: top;\n",
       "    }\n",
       "\n",
       "    .dataframe thead th {\n",
       "        text-align: right;\n",
       "    }\n",
       "</style>\n",
       "<table border=\"1\" class=\"dataframe\">\n",
       "  <thead>\n",
       "    <tr style=\"text-align: right;\">\n",
       "      <th></th>\n",
       "      <th></th>\n",
       "      <th></th>\n",
       "      <th>clinical_evaluation</th>\n",
       "    </tr>\n",
       "    <tr>\n",
       "      <th>year</th>\n",
       "      <th>month</th>\n",
       "      <th>clinical_evaluation</th>\n",
       "      <th></th>\n",
       "    </tr>\n",
       "  </thead>\n",
       "  <tbody>\n",
       "    <tr>\n",
       "      <th rowspan=\"7\" valign=\"top\">2019</th>\n",
       "      <th>August</th>\n",
       "      <th>1</th>\n",
       "      <td>11</td>\n",
       "    </tr>\n",
       "    <tr>\n",
       "      <th>July</th>\n",
       "      <th>1</th>\n",
       "      <td>15</td>\n",
       "    </tr>\n",
       "    <tr>\n",
       "      <th rowspan=\"2\" valign=\"top\">June</th>\n",
       "      <th>0</th>\n",
       "      <td>1</td>\n",
       "    </tr>\n",
       "    <tr>\n",
       "      <th>1</th>\n",
       "      <td>6</td>\n",
       "    </tr>\n",
       "    <tr>\n",
       "      <th>November</th>\n",
       "      <th>1</th>\n",
       "      <td>16</td>\n",
       "    </tr>\n",
       "    <tr>\n",
       "      <th>October</th>\n",
       "      <th>1</th>\n",
       "      <td>17</td>\n",
       "    </tr>\n",
       "    <tr>\n",
       "      <th>September</th>\n",
       "      <th>1</th>\n",
       "      <td>18</td>\n",
       "    </tr>\n",
       "  </tbody>\n",
       "</table>\n",
       "</div>"
      ],
      "text/plain": [
       "                                    clinical_evaluation\n",
       "year month     clinical_evaluation                     \n",
       "2019 August    1                                     11\n",
       "     July      1                                     15\n",
       "     June      0                                      1\n",
       "               1                                      6\n",
       "     November  1                                     16\n",
       "     October   1                                     17\n",
       "     September 1                                     18"
      ]
     },
     "execution_count": 21,
     "metadata": {},
     "output_type": "execute_result"
    }
   ],
   "source": [
    "most_stressed = df[df['patient_id'] == 10687]\n",
    "most_stressed.groupby(['year', 'month', 'clinical_evaluation']).agg({'clinical_evaluation': 'count'})"
   ]
  },
  {
   "cell_type": "markdown",
   "metadata": {},
   "source": [
    "It's quite surprising that in a 6-month period, the patient took 84 diagnosis tests and 83 diagnoses went for further evaluation.\n",
    "\n",
    "Let's plot the patient's score distribution."
   ]
  },
  {
   "cell_type": "code",
   "execution_count": 22,
   "metadata": {},
   "outputs": [
    {
     "data": {
      "image/png": "[encoded data removed]",
      "text/plain": [
       "<Figure size 720x432 with 1 Axes>"
      ]
     },
     "metadata": {},
     "output_type": "display_data"
    }
   ],
   "source": [
    "sns.countplot('score', \n",
    "              data=most_stressed);"
   ]
  },
  {
   "cell_type": "markdown",
   "metadata": {},
   "source": [
    "The patient can be a great case study considering more than 60% of his diagnoses turned out to be severe."
   ]
  },
  {
   "cell_type": "markdown",
   "metadata": {},
   "source": [
    "As we have seen that a patient can be diagnosed as severe or low in different tests, let's group the patients in three different segments:\n",
    "<br>1) No: Patients who never needed any further evaluation (only 'no' but never needed 'yes').\n",
    "</br>\n",
    "2) Yes: Patients who directly went to the further evaluation (only 'yes').\n",
    "</br>\n",
    "3) NoYes: Patients who needed both--in one occasion 'no' and in another 'yes'."
   ]
  },
  {
   "cell_type": "code",
   "execution_count": 23,
   "metadata": {},
   "outputs": [
    {
     "data": {
      "text/html": [
       "<div>\n",
       "<style scoped>\n",
       "    .dataframe tbody tr th:only-of-type {\n",
       "        vertical-align: middle;\n",
       "    }\n",
       "\n",
       "    .dataframe tbody tr th {\n",
       "        vertical-align: top;\n",
       "    }\n",
       "\n",
       "    .dataframe thead th {\n",
       "        text-align: right;\n",
       "    }\n",
       "</style>\n",
       "<table border=\"1\" class=\"dataframe\">\n",
       "  <thead>\n",
       "    <tr style=\"text-align: right;\">\n",
       "      <th></th>\n",
       "      <th>date</th>\n",
       "      <th>year</th>\n",
       "      <th>month</th>\n",
       "      <th>weekday</th>\n",
       "      <th>hour</th>\n",
       "      <th>patient_id</th>\n",
       "      <th>type</th>\n",
       "      <th>patient_date_created</th>\n",
       "      <th>score</th>\n",
       "      <th>severity</th>\n",
       "      <th>clinical_evaluation</th>\n",
       "      <th>status</th>\n",
       "    </tr>\n",
       "  </thead>\n",
       "  <tbody>\n",
       "    <tr>\n",
       "      <th>3479</th>\n",
       "      <td>2019-10-04 18:54:02.776362</td>\n",
       "      <td>2019</td>\n",
       "      <td>October</td>\n",
       "      <td>Friday</td>\n",
       "      <td>18</td>\n",
       "      <td>14759</td>\n",
       "      <td>gad7</td>\n",
       "      <td>2019-08-03 10:45:50.721946</td>\n",
       "      <td>12</td>\n",
       "      <td>moderate</td>\n",
       "      <td>1</td>\n",
       "      <td>NoYes</td>\n",
       "    </tr>\n",
       "    <tr>\n",
       "      <th>8757</th>\n",
       "      <td>2019-11-04 17:25:36.212053</td>\n",
       "      <td>2019</td>\n",
       "      <td>November</td>\n",
       "      <td>Monday</td>\n",
       "      <td>17</td>\n",
       "      <td>874</td>\n",
       "      <td>gad7</td>\n",
       "      <td>2019-09-05 15:51:02.108261</td>\n",
       "      <td>9</td>\n",
       "      <td>mild</td>\n",
       "      <td>0</td>\n",
       "      <td>NoYes</td>\n",
       "    </tr>\n",
       "    <tr>\n",
       "      <th>51112</th>\n",
       "      <td>2020-05-29 22:55:02.049105</td>\n",
       "      <td>2020</td>\n",
       "      <td>May</td>\n",
       "      <td>Friday</td>\n",
       "      <td>22</td>\n",
       "      <td>10911</td>\n",
       "      <td>gad7</td>\n",
       "      <td>2020-05-21 06:58:03.975806</td>\n",
       "      <td>20</td>\n",
       "      <td>severe</td>\n",
       "      <td>1</td>\n",
       "      <td>Yes</td>\n",
       "    </tr>\n",
       "    <tr>\n",
       "      <th>30050</th>\n",
       "      <td>2020-03-30 14:55:56.392168</td>\n",
       "      <td>2020</td>\n",
       "      <td>March</td>\n",
       "      <td>Monday</td>\n",
       "      <td>14</td>\n",
       "      <td>8017</td>\n",
       "      <td>gad7</td>\n",
       "      <td>2020-01-15 18:10:34.928127</td>\n",
       "      <td>1</td>\n",
       "      <td>low</td>\n",
       "      <td>0</td>\n",
       "      <td>No</td>\n",
       "    </tr>\n",
       "    <tr>\n",
       "      <th>141</th>\n",
       "      <td>2019-07-09 13:41:48.225209</td>\n",
       "      <td>2019</td>\n",
       "      <td>July</td>\n",
       "      <td>Tuesday</td>\n",
       "      <td>13</td>\n",
       "      <td>16617</td>\n",
       "      <td>gad7</td>\n",
       "      <td>2019-06-04 19:28:38.734048</td>\n",
       "      <td>14</td>\n",
       "      <td>moderate</td>\n",
       "      <td>1</td>\n",
       "      <td>Yes</td>\n",
       "    </tr>\n",
       "  </tbody>\n",
       "</table>\n",
       "</div>"
      ],
      "text/plain": [
       "                            date  year     month  weekday hour  patient_id  \\\n",
       "3479  2019-10-04 18:54:02.776362  2019   October   Friday   18       14759   \n",
       "8757  2019-11-04 17:25:36.212053  2019  November   Monday   17         874   \n",
       "51112 2020-05-29 22:55:02.049105  2020       May   Friday   22       10911   \n",
       "30050 2020-03-30 14:55:56.392168  2020     March   Monday   14        8017   \n",
       "141   2019-07-09 13:41:48.225209  2019      July  Tuesday   13       16617   \n",
       "\n",
       "       type       patient_date_created  score  severity  clinical_evaluation  \\\n",
       "3479   gad7 2019-08-03 10:45:50.721946     12  moderate                    1   \n",
       "8757   gad7 2019-09-05 15:51:02.108261      9      mild                    0   \n",
       "51112  gad7 2020-05-21 06:58:03.975806     20    severe                    1   \n",
       "30050  gad7 2020-01-15 18:10:34.928127      1       low                    0   \n",
       "141    gad7 2019-06-04 19:28:38.734048     14  moderate                    1   \n",
       "\n",
       "      status  \n",
       "3479   NoYes  \n",
       "8757   NoYes  \n",
       "51112    Yes  \n",
       "30050     No  \n",
       "141      Yes  "
      ]
     },
     "execution_count": 23,
     "metadata": {},
     "output_type": "execute_result"
    }
   ],
   "source": [
    "df['clinical_evaluation'] = df['clinical_evaluation'].map({0: 'No', 1:'Yes'})\n",
    "Ptype = pd.crosstab(df['patient_id'], df['clinical_evaluation'])\n",
    "df['status'] = df['patient_id'].map(Ptype.ne(0).dot(Ptype.columns))\n",
    "df['clinical_evaluation'] = df['clinical_evaluation'].map({'No': 0, 'Yes': 1})\n",
    "df.sample(5)"
   ]
  },
  {
   "cell_type": "code",
   "execution_count": 24,
   "metadata": {},
   "outputs": [
    {
     "name": "stdout",
     "output_type": "stream",
     "text": [
      "No       68.438303\n",
      "NoYes    23.885433\n",
      "Yes       7.676264\n",
      "Name: status, dtype: float64\n"
     ]
    },
    {
     "data": {
      "image/png": "[encoded data removed]",
      "text/plain": [
       "<Figure size 720x432 with 1 Axes>"
      ]
     },
     "metadata": {},
     "output_type": "display_data"
    }
   ],
   "source": [
    "# Count each group\n",
    "print(df['status'].value_counts(normalize=True)*100)\n",
    "\n",
    "# Plot the status distribution\n",
    "sns.countplot('status', data=df);"
   ]
  },
  {
   "cell_type": "markdown",
   "metadata": {},
   "source": [
    "We have seen before that about 82% of tests didn't need further evaluation. However, when separate the patients into three groups, we can see that about 68% patients never needed for further evaluation, about 23% patients went through both the situation and only 7% patients needed straight evaluation."
   ]
  },
  {
   "cell_type": "markdown",
   "metadata": {},
   "source": [
    "Let's see which patients never needed further evaluation."
   ]
  },
  {
   "cell_type": "code",
   "execution_count": 25,
   "metadata": {},
   "outputs": [
    {
     "data": {
      "text/html": [
       "<div>\n",
       "<style scoped>\n",
       "    .dataframe tbody tr th:only-of-type {\n",
       "        vertical-align: middle;\n",
       "    }\n",
       "\n",
       "    .dataframe tbody tr th {\n",
       "        vertical-align: top;\n",
       "    }\n",
       "\n",
       "    .dataframe thead th {\n",
       "        text-align: right;\n",
       "    }\n",
       "</style>\n",
       "<table border=\"1\" class=\"dataframe\">\n",
       "  <thead>\n",
       "    <tr style=\"text-align: right;\">\n",
       "      <th></th>\n",
       "      <th>clinical_evaluation</th>\n",
       "    </tr>\n",
       "    <tr>\n",
       "      <th>patient_id</th>\n",
       "      <th></th>\n",
       "    </tr>\n",
       "  </thead>\n",
       "  <tbody>\n",
       "    <tr>\n",
       "      <th>12307</th>\n",
       "      <td>38</td>\n",
       "    </tr>\n",
       "    <tr>\n",
       "      <th>13874</th>\n",
       "      <td>34</td>\n",
       "    </tr>\n",
       "    <tr>\n",
       "      <th>14779</th>\n",
       "      <td>33</td>\n",
       "    </tr>\n",
       "    <tr>\n",
       "      <th>2462</th>\n",
       "      <td>24</td>\n",
       "    </tr>\n",
       "    <tr>\n",
       "      <th>6958</th>\n",
       "      <td>22</td>\n",
       "    </tr>\n",
       "  </tbody>\n",
       "</table>\n",
       "</div>"
      ],
      "text/plain": [
       "            clinical_evaluation\n",
       "patient_id                     \n",
       "12307                        38\n",
       "13874                        34\n",
       "14779                        33\n",
       "2462                         24\n",
       "6958                         22"
      ]
     },
     "metadata": {},
     "output_type": "display_data"
    },
    {
     "data": {
      "image/png": "[encoded data removed]",
      "text/plain": [
       "<Figure size 720x432 with 1 Axes>"
      ]
     },
     "metadata": {},
     "output_type": "display_data"
    }
   ],
   "source": [
    "df_no_all= df[df['status'] == 'No'].groupby('patient_id').\\\n",
    "                                agg({'clinical_evaluation': \"count\"})\n",
    "df_no_all_25 = df_no_all.nlargest(25, 'clinical_evaluation')\n",
    "display(df_no_all_25.head())\n",
    "\n",
    "# Plot their distribution        \n",
    "df_no_all_25['clinical_evaluation'].plot(kind='bar')\n",
    "plt.ylabel('Evaluation Counts')\n",
    "plt.xlabel('Patient Id')\n",
    "plt.show()"
   ]
  },
  {
   "cell_type": "markdown",
   "metadata": {},
   "source": [
    "The patient id '12307' took about 40 diagnoses but needed scored beyond 9.\n",
    "\n",
    "Let's see which patients always scored 10 or more than 10 and needed further evaluations. "
   ]
  },
  {
   "cell_type": "code",
   "execution_count": 26,
   "metadata": {},
   "outputs": [
    {
     "data": {
      "text/html": [
       "<div>\n",
       "<style scoped>\n",
       "    .dataframe tbody tr th:only-of-type {\n",
       "        vertical-align: middle;\n",
       "    }\n",
       "\n",
       "    .dataframe tbody tr th {\n",
       "        vertical-align: top;\n",
       "    }\n",
       "\n",
       "    .dataframe thead th {\n",
       "        text-align: right;\n",
       "    }\n",
       "</style>\n",
       "<table border=\"1\" class=\"dataframe\">\n",
       "  <thead>\n",
       "    <tr style=\"text-align: right;\">\n",
       "      <th></th>\n",
       "      <th>clinical_evaluation</th>\n",
       "    </tr>\n",
       "    <tr>\n",
       "      <th>patient_id</th>\n",
       "      <th></th>\n",
       "    </tr>\n",
       "  </thead>\n",
       "  <tbody>\n",
       "    <tr>\n",
       "      <th>11538</th>\n",
       "      <td>32</td>\n",
       "    </tr>\n",
       "    <tr>\n",
       "      <th>14717</th>\n",
       "      <td>19</td>\n",
       "    </tr>\n",
       "    <tr>\n",
       "      <th>14137</th>\n",
       "      <td>17</td>\n",
       "    </tr>\n",
       "    <tr>\n",
       "      <th>14244</th>\n",
       "      <td>16</td>\n",
       "    </tr>\n",
       "    <tr>\n",
       "      <th>11314</th>\n",
       "      <td>14</td>\n",
       "    </tr>\n",
       "  </tbody>\n",
       "</table>\n",
       "</div>"
      ],
      "text/plain": [
       "            clinical_evaluation\n",
       "patient_id                     \n",
       "11538                        32\n",
       "14717                        19\n",
       "14137                        17\n",
       "14244                        16\n",
       "11314                        14"
      ]
     },
     "metadata": {},
     "output_type": "display_data"
    },
    {
     "data": {
      "image/png": "[encoded data removed]",
      "text/plain": [
       "<Figure size 720x432 with 1 Axes>"
      ]
     },
     "metadata": {},
     "output_type": "display_data"
    }
   ],
   "source": [
    "df_yes_all= df[df['status'] == 'Yes'].groupby('patient_id').\\\n",
    "                        agg({'clinical_evaluation': \"count\"})\n",
    "df_yes_all_25 = df_yes_all.nlargest(25, 'clinical_evaluation')\n",
    "display(df_yes_all_25.head())\n",
    "\n",
    "df_yes_all_25['clinical_evaluation'].plot(kind='bar')\n",
    "plt.ylabel('Evaluation Counts')\n",
    "plt.xlabel('Patient Id')\n",
    "plt.show()"
   ]
  },
  {
   "cell_type": "markdown",
   "metadata": {},
   "source": [
    "### **Additional assumptions**"
   ]
  },
  {
   "cell_type": "markdown",
   "metadata": {},
   "source": [
    "During plotting the probability of being clinically evaluated further, I have made the assumption that all the attributes are independent as well as normally distributed for which I didn’t perform any statistical testing."
   ]
  },
  {
   "cell_type": "markdown",
   "metadata": {},
   "source": [
    "### **Additional information**"
   ]
  },
  {
   "cell_type": "markdown",
   "metadata": {},
   "source": [
    "* It would be great to collect the information on 'age', 'gender', 'ethnicity', 'employement', 'marital status' and 'income'.\n",
    "* It would also be great if we could collect when the further clinical evaluation happened so that we can evaluate weather the further therapy has helped or not."
   ]
  },
  {
   "cell_type": "markdown",
   "metadata": {},
   "source": [
    "# **Part 2**"
   ]
  },
  {
   "cell_type": "markdown",
   "metadata": {},
   "source": [
    "Answer: SQL 1"
   ]
  },
  {
   "cell_type": "raw",
   "metadata": {},
   "source": [
    "SELECT\n",
    "    month,\n",
    "    ROUND(AVG(CASE WHEN ex_complete > 0 THEN 1 ELSE 0 END)*100, 2) AS percent\n",
    "FROM  \n",
    "    (SELECT u.user_id, \n",
    "    LEFT(u.created_at, 7) AS month,\n",
    "    SUM(IF(LEFT(u.created_at, 7) = LEFT(e.exercise_completion_date, 7), 1, 0)) ex_complete\n",
    "    FROM users AS u\n",
    "    LEFT JOIN exercises AS e\n",
    "    ON e.user_id = u.user_id\n",
    "    GROUP BY u.user_id, LEFT(u.created_at, 7)) temp\n",
    "GROUP BY month;"
   ]
  },
  {
   "cell_type": "markdown",
   "metadata": {},
   "source": [
    "Answer: SQL 2"
   ]
  },
  {
   "cell_type": "raw",
   "metadata": {},
   "source": [
    "SELECT\n",
    "    exercises AS activity,\n",
    "    COUNT(*) AS users\n",
    "FROM \n",
    "    (SELECT u.user_id, SUM(CASE WHEN exercise_id IS NOT NULL THEN 1 ELSE 0 END) AS exercises\n",
    "    FROM users AS u\n",
    "    LEFT JOIN exercises AS e\n",
    "    ON e.user_id = u.user_id\n",
    "    GROUP BY u.user_id) temp\n",
    "GROUP BY exercises\n",
    "ORDER BY activity;"
   ]
  },
  {
   "cell_type": "markdown",
   "metadata": {},
   "source": [
    "Answer: SQL 3"
   ]
  },
  {
   "cell_type": "raw",
   "metadata": {},
   "source": [
    "SELECT\n",
    "    organization_name AS organization\n",
    "FROM Providers AS p1\n",
    "    LEFT JOIN Phq9 AS p2\n",
    "    ON p1.provider_id = p2.provider_id\n",
    "GROUP BY organization\n",
    "ORDER BY AVG(p2.score) DESC\n",
    "LIMIT 5;"
   ]
  }
 ],
 "metadata": {
  "kernelspec": {
   "display_name": "Python 3",
   "language": "python",
   "name": "python3"
  },
  "language_info": {
   "codemirror_mode": {
    "name": "ipython",
    "version": 3
   },
   "file_extension": ".py",
   "mimetype": "text/x-python",
   "name": "python",
   "nbconvert_exporter": "python",
   "pygments_lexer": "ipython3",
   "version": "3.7.7"
  }
 },
 "nbformat": 4,
 "nbformat_minor": 4
}
